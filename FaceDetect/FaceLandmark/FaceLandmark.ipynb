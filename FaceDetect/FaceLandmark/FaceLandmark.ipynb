{
 "cells": [
  {
   "cell_type": "code",
   "execution_count": 1,
   "metadata": {},
   "outputs": [],
   "source": [
    "import dlib\n",
    "import cv2\n",
    "import numpy as np\n",
    "\n",
    "# create face detector, predictor\n",
    "detector = dlib.get_frontal_face_detector()\n",
    "predictor = dlib.shape_predictor(\"shape_predictor_68_face_landmarks.dat/shape_predictor_68_face_landmarks.dat\") # predict 해주는애\n",
    "\n",
    "video_capture = cv2.VideoCapture(0)\n",
    "\n",
    "while True:\n",
    "    ret, frame = video_capture.read() #Get Frame: ret True, no: False\n",
    "\n",
    "   # resize the video\n",
    "    image = cv2.resize(frame, dsize=(640, 480), interpolation=cv2.INTER_AREA)\n",
    "    img_gray = cv2.cvtColor(image, cv2.COLOR_BGR2GRAY)\n",
    "\n",
    "    # Get faces (up-sampling=1)\n",
    "    face_detector = detector(img_gray, 1)\n",
    "    \n",
    "    # the number of face \n",
    "    # print(\"The number of faces detected : {}\".format(len(face_detector)))\n",
    "\n",
    "    # loop as the number of face\n",
    "    # one loop belong to one face\n",
    "    for face in face_detector:\n",
    "        cv2.rectangle(image, (face.left(), face.top()), (face.right(), face.bottom()),(0, 0, 255), 3)\n",
    "\n",
    "        # make prediction and transform to numpy array\n",
    "        landmarks = predictor(image, face)  # 얼굴에서 68개 점 찾기\n",
    "\n",
    "        # append landmark list\n",
    "        landmark_list = []\n",
    "        for p in landmarks.parts():\n",
    "            landmark_list.append([p.x, p.y])\n",
    "            cv2.circle(image, (p.x, p.y), 2, (0, 255, 0), -1)\n",
    "\n",
    "\n",
    "    cv2.imshow('result', image)\n",
    "\n",
    "    # wait for keyboard input\n",
    "    key = cv2.waitKey(1)\n",
    "\n",
    "    # if esc,\n",
    "    if key == 27:\n",
    "        break\n",
    "\n",
    "video_capture.release()"
   ]
  },
  {
   "cell_type": "code",
   "execution_count": null,
   "metadata": {},
   "outputs": [],
   "source": []
  }
 ],
 "metadata": {
  "kernelspec": {
   "display_name": "JolpJJang",
   "language": "python",
   "name": "jolpjjang"
  },
  "language_info": {
   "codemirror_mode": {
    "name": "ipython",
    "version": 3
   },
   "file_extension": ".py",
   "mimetype": "text/x-python",
   "name": "python",
   "nbconvert_exporter": "python",
   "pygments_lexer": "ipython3",
   "version": "3.8.8"
  }
 },
 "nbformat": 4,
 "nbformat_minor": 4
}
